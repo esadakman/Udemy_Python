{
 "cells": [
  {
   "cell_type": "markdown",
   "metadata": {},
   "source": [
    "## Map Fonksiyonu\n",
    "Bu konuyla beraber Pythonda gömülü olan bazı fonksiyonlarımızı öğrenmeye başlıyoruz.\n",
    "\n",
    "Pythonda gömülü bir fonksiyon olan <b>map()</b> fonksiyonunun yapısı şu şekildedir.\n",
    "\n",
    "                map(fonksiyon,iterasyon yapılabilecek veritipi(liste,demet vb),....)\n",
    "\n",
    "<b>map()</b> fonksiyonu ilk parametre olarak bir tane <b>fonksiyon objesi</b> alır. (Fonksiyonlar da birer obje olduğu için başka bir fonksiyona gönderilebilir.) 2. parametre olarak da bir tane iterasyon yapılacak veritipi alarak , gönderilen fonksiyonu her bir eleman üzerinde uygulayarak sonuçları bir <b>map()</b> objesi olarak döner. Örneklerimize geçersek bu fonksiyonun işlevini daha iyi anlayacağız."
   ]
  },
  {
   "cell_type": "code",
   "execution_count": 1,
   "metadata": {},
   "outputs": [],
   "source": [
    "def double(x):\n",
    "    return x * 2"
   ]
  },
  {
   "cell_type": "code",
   "execution_count": 2,
   "metadata": {},
   "outputs": [
    {
     "data": {
      "text/plain": [
       "<map at 0x20f752b6380>"
      ]
     },
     "execution_count": 2,
     "metadata": {},
     "output_type": "execute_result"
    }
   ],
   "source": [
    "map(double,[1,2,3,4,5,6,7])"
   ]
  },
  {
   "cell_type": "code",
   "execution_count": 3,
   "metadata": {},
   "outputs": [
    {
     "data": {
      "text/plain": [
       "[2, 4, 6, 8, 10, 12, 14]"
      ]
     },
     "execution_count": 3,
     "metadata": {},
     "output_type": "execute_result"
    }
   ],
   "source": [
    "list(map(double,[1,2,3,4,5,6,7]))"
   ]
  },
  {
   "cell_type": "code",
   "execution_count": 10,
   "metadata": {},
   "outputs": [
    {
     "data": {
      "text/plain": [
       "[1, 4, 9, 16, 25, 25, 36, 49, 64, 81, 100]"
      ]
     },
     "execution_count": 10,
     "metadata": {},
     "output_type": "execute_result"
    }
   ],
   "source": [
    "map(lambda x: x **2, (1,2,3,4,5,5,6,7,8,9,10))\n",
    "list(map(lambda x: x **2, (1,2,3,4,5,5,6,7,8,9,10)))\n"
   ]
  },
  {
   "cell_type": "markdown",
   "metadata": {},
   "source": [
    "Map fonksiyonu birden fazla liste veya demet alabilir."
   ]
  },
  {
   "cell_type": "code",
   "execution_count": 12,
   "metadata": {},
   "outputs": [],
   "source": [
    "liste1 = [1,2,3,4]\n",
    "liste2 = [5,6,7,8]\n",
    "liste3 = [9,10,11,12,13]"
   ]
  },
  {
   "cell_type": "code",
   "execution_count": 13,
   "metadata": {},
   "outputs": [
    {
     "data": {
      "text/plain": [
       "[5, 12, 21, 32]"
      ]
     },
     "execution_count": 13,
     "metadata": {},
     "output_type": "execute_result"
    }
   ],
   "source": [
    "list(map(lambda x,y : x*y, liste1,liste2))"
   ]
  },
  {
   "cell_type": "code",
   "execution_count": 16,
   "metadata": {},
   "outputs": [
    {
     "data": {
      "text/plain": [
       "[45, 120, 231, 384]"
      ]
     },
     "execution_count": 16,
     "metadata": {},
     "output_type": "execute_result"
    }
   ],
   "source": [
    "list(map(lambda x,y,z : x*y*z, liste1,liste2,liste3))"
   ]
  },
  {
   "cell_type": "markdown",
   "metadata": {},
   "source": [
    "### Reduce Fonksiyonu\n",
    "Bu konuda bir diğer gömülü fonksiyonumuz olan reduce fonksiyonunu öğrenmeye çalışacağız.\n",
    "\n",
    "            reduce(function, iterasyon yapılabilen veritipi(liste vb.))\n",
    "\n",
    "<b> reduce() </b> fonksiyonu değer olarak aldığı fonksiyonu soldan başlayarak listenin ilk 2 elemanına uygular ve daha sonra çıkan sonucu listenin 3. elemanına uygular ve bu şekilde devam ederek liste bitince bir tane değer döner. Anlamak için örneğimize ve görselimize bakalım."
   ]
  },
  {
   "cell_type": "code",
   "execution_count": 5,
   "metadata": {},
   "outputs": [],
   "source": [
    "from functools import reduce  # reduce fonksiyonu son sürümlerde functools modülüne taşındı."
   ]
  },
  {
   "cell_type": "code",
   "execution_count": 6,
   "metadata": {},
   "outputs": [
    {
     "data": {
      "text/plain": [
       "60"
      ]
     },
     "execution_count": 6,
     "metadata": {},
     "output_type": "execute_result"
    }
   ],
   "source": [
    "reduce(lambda x,y : x + y , [12,18,20,10])"
   ]
  },
  {
   "cell_type": "markdown",
   "metadata": {},
   "source": [
    "Burada sonuç neden 60 çıkıyor bakalım. İlk önce 12 ve 18 değeri fonksiyona argüman olarak gidiyor ve toplanarak sonuç 30 çıkıyor. Daha sonra 30 değeriyle bir sonraki eleman olan 20 değeri toplanıyor ve sonuç 50 çıkıyor. En son 50 değeriyle listenin en son elemanı olan 10 değeri toplanıyor ve liste bittiği için sonuç 60 çıkıyor. Bunu aşağıdaki resimde görebiliriz."
   ]
  },
  {
   "cell_type": "code",
   "execution_count": 7,
   "metadata": {},
   "outputs": [
    {
     "data": {
      "text/plain": [
       "120"
      ]
     },
     "execution_count": 7,
     "metadata": {},
     "output_type": "execute_result"
    }
   ],
   "source": [
    "# Bakın 5'in faktöriyelini bulduk.\n",
    "reduce(lambda x,y : x * y , [1,2,3,4,5])"
   ]
  },
  {
   "cell_type": "code",
   "execution_count": 8,
   "metadata": {},
   "outputs": [
    {
     "data": {
      "text/plain": [
       "600"
      ]
     },
     "execution_count": 8,
     "metadata": {},
     "output_type": "execute_result"
    }
   ],
   "source": [
    "reduce(lambda x,y : x * y , [3,4,5,10])"
   ]
  },
  {
   "cell_type": "code",
   "execution_count": 13,
   "metadata": {},
   "outputs": [],
   "source": [
    "def maks(x,y):\n",
    "    if (x > y):\n",
    "        return x\n",
    "    else:\n",
    "        return y"
   ]
  },
  {
   "cell_type": "code",
   "execution_count": 14,
   "metadata": {},
   "outputs": [
    {
     "data": {
      "text/plain": [
       "4"
      ]
     },
     "execution_count": 14,
     "metadata": {},
     "output_type": "execute_result"
    }
   ],
   "source": [
    "maks(3,4)"
   ]
  },
  {
   "cell_type": "code",
   "execution_count": 15,
   "metadata": {},
   "outputs": [
    {
     "data": {
      "text/plain": [
       "100"
      ]
     },
     "execution_count": 15,
     "metadata": {},
     "output_type": "execute_result"
    }
   ],
   "source": [
    "reduce(maks, [-2,1,100,35,32])"
   ]
  },
  {
   "cell_type": "markdown",
   "metadata": {},
   "source": [
    "### Filter Fonksiyonu \n",
    "Bu konuda <b>filter </b> fonksiyonunu öğrenmeye çalışacağız.\n",
    "\n",
    "                filter(fonksiyon,iterasyon yapılabilen bir veritipi(liste vb.))\n",
    "\n",
    "<b>filter() fonksiyonu </b> birinci parametre olarak <b>mutlaka </b> mantıksal değer dönen (True , False) bir fonksiyon alır ve liste gibi veritiplerinin her bir elemanına bu fonksiyonunu uygular. filter sadece True sonuç çıkaran değerleri alarak bir tane <b>filter </b> objesi döner. Hemen örneklerimize bakalım."
   ]
  },
  {
   "cell_type": "code",
   "execution_count": 16,
   "metadata": {},
   "outputs": [
    {
     "data": {
      "text/plain": [
       "<filter at 0x2c223dcaa40>"
      ]
     },
     "execution_count": 16,
     "metadata": {},
     "output_type": "execute_result"
    }
   ],
   "source": [
    "filter(lambda x : x % 2 == 0, [1,2,3,4,5,6,7,8,9,10])"
   ]
  },
  {
   "cell_type": "code",
   "execution_count": 17,
   "metadata": {},
   "outputs": [
    {
     "data": {
      "text/plain": [
       "[2, 4, 6, 8, 10]"
      ]
     },
     "execution_count": 17,
     "metadata": {},
     "output_type": "execute_result"
    }
   ],
   "source": [
    "list(filter(lambda x : x % 2 == 0, [1,2,3,4,5,6,7,8,9,10]))"
   ]
  },
  {
   "cell_type": "code",
   "execution_count": 18,
   "metadata": {},
   "outputs": [],
   "source": [
    "def asal_mi(x):\n",
    "    i = 2\n",
    "\n",
    "    if (x == 1):\n",
    "        return False\n",
    "    elif (x == 2):\n",
    "        return True\n",
    "    else:\n",
    "\n",
    "        while (i < x):\n",
    "\n",
    "            if (x % i == 0):\n",
    "                return False\n",
    "            i += 1 \n",
    "        return True \n"
   ]
  },
  {
   "cell_type": "code",
   "execution_count": 19,
   "metadata": {},
   "outputs": [
    {
     "data": {
      "text/plain": [
       "True"
      ]
     },
     "execution_count": 19,
     "metadata": {},
     "output_type": "execute_result"
    }
   ],
   "source": [
    "asal_mi(5)"
   ]
  },
  {
   "cell_type": "code",
   "execution_count": 24,
   "metadata": {},
   "outputs": [
    {
     "data": {
      "text/plain": [
       "[2, 3, 5, 7, 11, 13, 17, 19, 23, 29, 31, 37, 41, 43, 47]"
      ]
     },
     "execution_count": 24,
     "metadata": {},
     "output_type": "execute_result"
    }
   ],
   "source": [
    "list(filter(asal_mi, range(1,50)))"
   ]
  },
  {
   "cell_type": "markdown",
   "metadata": {},
   "source": [
    "### Zip Fonksiyonu\n",
    "Bu konuda zip fonksiyonu öğrenmeye çalışacağız. <b>zip </b> fonksiyonunu öğrenmeden önceden liste elemanlarını gruplamaya çalışalım ve daha sonrasında <b>zip </b> fonksiyonunun faydasını görmeye çalışalım.  <b>   </b> "
   ]
  },
  {
   "cell_type": "code",
   "execution_count": 25,
   "metadata": {},
   "outputs": [
    {
     "name": "stdout",
     "output_type": "stream",
     "text": [
      "[(1, 6), (2, 7), (3, 8), (4, 9), (5, 10)]\n"
     ]
    }
   ],
   "source": [
    "liste1 = [1,2,3,4,5]\n",
    "liste2 = [6,7,8,9,10,11]\n",
    "\n",
    "# sonucu [(1,6),(2,7),(3,8),(4,9),(5,10)] yapmaya çalışalım.\n",
    "\n",
    "i = 0\n",
    "sonuç = list()\n",
    "while (i < len(liste1) and i < len(liste2)):\n",
    "    sonuç.append((liste1[i],liste2[i]))\n",
    "    \n",
    "    i +=1\n",
    "print(sonuç)"
   ]
  },
  {
   "cell_type": "markdown",
   "metadata": {},
   "source": [
    "Peki böyle uzun bir işlemi zip fonksiyonuyla nasıl yaparız ? İsterseniz zip fonksiyonunun kullanımını direk örnek üzerinden görelim."
   ]
  },
  {
   "cell_type": "code",
   "execution_count": 26,
   "metadata": {},
   "outputs": [
    {
     "data": {
      "text/plain": [
       "<zip at 0x2c224615e40>"
      ]
     },
     "execution_count": 26,
     "metadata": {},
     "output_type": "execute_result"
    }
   ],
   "source": [
    "zip(liste1,liste2)"
   ]
  },
  {
   "cell_type": "code",
   "execution_count": 27,
   "metadata": {},
   "outputs": [
    {
     "data": {
      "text/plain": [
       "[(1, 6), (2, 7), (3, 8), (4, 9), (5, 10)]"
      ]
     },
     "execution_count": 27,
     "metadata": {},
     "output_type": "execute_result"
    }
   ],
   "source": [
    "list(zip(liste1,liste2))"
   ]
  },
  {
   "cell_type": "markdown",
   "metadata": {},
   "source": [
    "Burada zip fonksiyonunun kullanımını görüyoruz. zip fonksiyonu listelerin elemanları sırasıyla demet şeklinde gruplayarak bir tane liste oluşturuyor. Başka bir örnek yapalım."
   ]
  },
  {
   "cell_type": "code",
   "execution_count": 28,
   "metadata": {},
   "outputs": [],
   "source": [
    "liste1 = [1,2,3,4]\n",
    "liste2 = [5,6,7,8]\n",
    "liste3 = [\"Python\",\"Php\",\"Java\",\"Javascript\",\"C\"]"
   ]
  },
  {
   "cell_type": "code",
   "execution_count": 29,
   "metadata": {},
   "outputs": [
    {
     "data": {
      "text/plain": [
       "[(1, 5, 'Python'), (2, 6, 'Php'), (3, 7, 'Java'), (4, 8, 'Javascript')]"
      ]
     },
     "execution_count": 29,
     "metadata": {},
     "output_type": "execute_result"
    }
   ],
   "source": [
    "list(zip(liste1,liste2,liste3))"
   ]
  },
  {
   "cell_type": "code",
   "execution_count": 30,
   "metadata": {},
   "outputs": [
    {
     "name": "stdout",
     "output_type": "stream",
     "text": [
      "i: 1 j: Python\n",
      "i: 2 j: Php\n",
      "i: 3 j: Java\n",
      "i: 4 j: Javascript\n"
     ]
    }
   ],
   "source": [
    "## Aynı anda iki liste üzerinde gezinmek\n",
    "liste1 = [1,2,3,4]\n",
    "liste2 = [\"Python\",\"Php\",\"Java\",\"Javascript\"]\n",
    "\n",
    "for i,j in zip(liste1,liste2):\n",
    "    print(\"i:\",i,\"j:\",j)"
   ]
  },
  {
   "cell_type": "code",
   "execution_count": 31,
   "metadata": {},
   "outputs": [],
   "source": [
    "# Sözlükleri zipleyelim.\n",
    "sözlük1 = {\"Elma\":1,\"Armut\":2,\"Kiraz\":3}\n",
    "sözlük2 = {\"Sıfır\":0,\"Bir\":1,\"İki\":2}"
   ]
  },
  {
   "cell_type": "code",
   "execution_count": 32,
   "metadata": {},
   "outputs": [
    {
     "data": {
      "text/plain": [
       "[('Elma', 'Sıfır'), ('Armut', 'Bir'), ('Kiraz', 'İki')]"
      ]
     },
     "execution_count": 32,
     "metadata": {},
     "output_type": "execute_result"
    }
   ],
   "source": [
    "list(zip(sözlük1,sözlük2)) # Anahtarlar eşleşti."
   ]
  },
  {
   "cell_type": "code",
   "execution_count": 34,
   "metadata": {},
   "outputs": [
    {
     "data": {
      "text/plain": [
       "[(1, 0), (2, 1), (3, 2)]"
      ]
     },
     "execution_count": 34,
     "metadata": {},
     "output_type": "execute_result"
    }
   ],
   "source": [
    "list(zip(sözlük1.values(),sözlük2.values())) # Değerler eşleşti"
   ]
  },
  {
   "cell_type": "markdown",
   "metadata": {},
   "source": [
    "## Enumerate Fonksiyonu\n",
    "Bu konuda enumerate fonksiyonunu öğrenmeye çalışacağız. <b>enumerate</b> fonksiyonunu daha iyi anlamak için ilk önce şu örneğe bakalım."
   ]
  },
  {
   "cell_type": "code",
   "execution_count": 1,
   "metadata": {},
   "outputs": [
    {
     "name": "stdout",
     "output_type": "stream",
     "text": [
      "[(0, 'Elma'), (1, 'Armut'), (2, 'Muz'), (3, 'Kiraz')]\n"
     ]
    }
   ],
   "source": [
    "liste = [\"Elma\",\"Armut\",\"Muz\",\"Kiraz\"]\n",
    "\n",
    "# sonucu [(0,'Elma'),(1,'Armut'),(2,'Muz'),(3,'Kiraz')] yapmak istiyoruz.\n",
    "\n",
    "sonuç = list()\n",
    "\n",
    "i = 0\n",
    "\n",
    "for a in liste:\n",
    "    \n",
    "    sonuç.append((i,a))\n",
    "    i +=1\n",
    "print(sonuç)"
   ]
  },
  {
   "cell_type": "markdown",
   "metadata": {},
   "source": [
    "Yani aslında burada herbir elemanı <b>indekslerle</b> numaralandırıyor ve demet çiftleri oluşturuyoruz. <b>for döngüsü</b> yazarken bazen hem elemanları hem de indeksleri almak isteyebiliriz. Böyle bir durumda numaralandırma işlemi yapan <b>enumerate</b> fonksiyonunu kullanabiliriz."
   ]
  },
  {
   "cell_type": "code",
   "execution_count": 2,
   "metadata": {},
   "outputs": [
    {
     "data": {
      "text/plain": [
       "[(0, 'Elma'), (1, 'Armut'), (2, 'Muz'), (3, 'Kiraz')]"
      ]
     },
     "execution_count": 2,
     "metadata": {},
     "output_type": "execute_result"
    }
   ],
   "source": [
    "liste = [\"Elma\",\"Armut\",\"Muz\",\"Kiraz\"]\n",
    "list(enumerate(liste))\n"
   ]
  },
  {
   "cell_type": "code",
   "execution_count": 3,
   "metadata": {},
   "outputs": [
    {
     "name": "stdout",
     "output_type": "stream",
     "text": [
      "0 Elma\n",
      "1 Armut\n",
      "2 Muz\n",
      "3 Kiraz\n"
     ]
    }
   ],
   "source": [
    "for i,j in enumerate(liste):\n",
    "    print(i,j)"
   ]
  },
  {
   "cell_type": "code",
   "execution_count": 4,
   "metadata": {},
   "outputs": [
    {
     "name": "stdout",
     "output_type": "stream",
     "text": [
      "a\n",
      "c\n",
      "e\n",
      "g\n"
     ]
    }
   ],
   "source": [
    "liste = [\"a\",\"b\",\"c\",\"d\",\"e\",\"f\",\"g\"]\n",
    "for i,j in enumerate(liste):\n",
    "    if i % 2 == 0:\n",
    "        print(j)"
   ]
  },
  {
   "cell_type": "code",
   "execution_count": 5,
   "metadata": {},
   "outputs": [
    {
     "name": "stdout",
     "output_type": "stream",
     "text": [
      "Eleman:  a\n",
      "Eleman:  c\n",
      "Eleman:  e\n",
      "Eleman:  g\n"
     ]
    }
   ],
   "source": [
    "liste = [\"a\",\"b\",\"c\",\"d\",\"e\",\"f\",\"g\"]\n",
    "\n",
    "for index,eleman in enumerate(liste):\n",
    "    if (index % 2 == 0):\n",
    "        print(\"Eleman: \",eleman)\n",
    "    \n",
    "    "
   ]
  },
  {
   "cell_type": "markdown",
   "metadata": {},
   "source": [
    "## All ve Any Fonksiyonları\n",
    "Bu derste <b>all</b>ve <b>any</b> fonksiyonlarının kullanımlarını öğrenmeden şu işlemleri bu fonksiyonları kullanmadan nasıl yaparız öğrenmeye çalışalım."
   ]
  },
  {
   "cell_type": "code",
   "execution_count": 6,
   "metadata": {},
   "outputs": [],
   "source": [
    "def hepsi(liste):\n",
    "    for i in liste:\n",
    "        if not i:\n",
    "            return False\n",
    "    return True\n",
    "# Bütün değerler True ise True en az birisi False ise False döndürmek istiyoruz.\n",
    "liste = [True,False,True,False,True]"
   ]
  },
  {
   "cell_type": "code",
   "execution_count": 7,
   "metadata": {},
   "outputs": [
    {
     "data": {
      "text/plain": [
       "False"
      ]
     },
     "execution_count": 7,
     "metadata": {},
     "output_type": "execute_result"
    }
   ],
   "source": [
    "hepsi(liste)"
   ]
  },
  {
   "cell_type": "code",
   "execution_count": 8,
   "metadata": {},
   "outputs": [
    {
     "data": {
      "text/plain": [
       "True"
      ]
     },
     "execution_count": 8,
     "metadata": {},
     "output_type": "execute_result"
    }
   ],
   "source": [
    "liste = [1,2,3,4,5] # Daha önceden biliyoruz. 0' haricinde bütün sayılar True sayılmaktadır.\n",
    "\n",
    "hepsi(liste) # Hepsi True"
   ]
  },
  {
   "cell_type": "code",
   "execution_count": 9,
   "metadata": {},
   "outputs": [],
   "source": [
    "def herhangi(liste):\n",
    "    for i in liste:\n",
    "        if i:\n",
    "            return True\n",
    "    return False\n",
    "# Herhangi bir değer True ise True, Hepsi False ise False döndürmek istiyoruz."
   ]
  },
  {
   "cell_type": "code",
   "execution_count": 10,
   "metadata": {},
   "outputs": [
    {
     "data": {
      "text/plain": [
       "True"
      ]
     },
     "execution_count": 10,
     "metadata": {},
     "output_type": "execute_result"
    }
   ],
   "source": [
    "liste = [True,False,True,False,True]\n",
    "herhangi(liste)"
   ]
  },
  {
   "cell_type": "markdown",
   "metadata": {},
   "source": [
    "Aslında bu işlemleri all() ve any() fonksiyonları yapmaktadır. İsterseniz bunların örneklerine bakalım.\n",
    "\n",
    "all() fonksiyonu bütün değerler True ise True, en az bir değer False ise False sonuç döndürür."
   ]
  },
  {
   "cell_type": "code",
   "execution_count": 14,
   "metadata": {},
   "outputs": [],
   "source": [
    "liste = [True,False,True,False,True]"
   ]
  },
  {
   "cell_type": "code",
   "execution_count": 11,
   "metadata": {},
   "outputs": [
    {
     "data": {
      "text/plain": [
       "False"
      ]
     },
     "execution_count": 11,
     "metadata": {},
     "output_type": "execute_result"
    }
   ],
   "source": [
    "all(liste)"
   ]
  },
  {
   "cell_type": "code",
   "execution_count": 13,
   "metadata": {},
   "outputs": [
    {
     "data": {
      "text/plain": [
       "True"
      ]
     },
     "execution_count": 13,
     "metadata": {},
     "output_type": "execute_result"
    }
   ],
   "source": [
    "liste = [1,2,3,4,5]\n",
    "all(liste)"
   ]
  },
  {
   "cell_type": "markdown",
   "metadata": {},
   "source": [
    "any() fonksiyonu bütün değerler False ise False, en az bir değer True ise True sonuç döndürür."
   ]
  },
  {
   "cell_type": "code",
   "execution_count": 15,
   "metadata": {},
   "outputs": [
    {
     "data": {
      "text/plain": [
       "True"
      ]
     },
     "execution_count": 15,
     "metadata": {},
     "output_type": "execute_result"
    }
   ],
   "source": [
    "any(liste)"
   ]
  },
  {
   "cell_type": "code",
   "execution_count": 16,
   "metadata": {},
   "outputs": [
    {
     "data": {
      "text/plain": [
       "False"
      ]
     },
     "execution_count": 16,
     "metadata": {},
     "output_type": "execute_result"
    }
   ],
   "source": [
    "liste = [0,0,0,0,0,0,0]\n",
    "any(liste)\n"
   ]
  },
  {
   "cell_type": "code",
   "execution_count": null,
   "metadata": {},
   "outputs": [],
   "source": []
  }
 ],
 "metadata": {
  "interpreter": {
   "hash": "35cf74722583059c87b9403a5ac155edf7f27e486a60c973b9f356bc9771dbae"
  },
  "kernelspec": {
   "display_name": "Python 3.10.2 64-bit",
   "language": "python",
   "name": "python3"
  },
  "language_info": {
   "codemirror_mode": {
    "name": "ipython",
    "version": 3
   },
   "file_extension": ".py",
   "mimetype": "text/x-python",
   "name": "python",
   "nbconvert_exporter": "python",
   "pygments_lexer": "ipython3",
   "version": "3.10.2"
  },
  "orig_nbformat": 4
 },
 "nbformat": 4,
 "nbformat_minor": 2
}
