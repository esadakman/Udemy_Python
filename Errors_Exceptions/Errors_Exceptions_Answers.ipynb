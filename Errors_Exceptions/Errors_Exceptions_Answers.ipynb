{
 "cells": [
  {
   "cell_type": "markdown",
   "metadata": {},
   "source": [
    "# Errors and Exceptions\n"
   ]
  },
  {
   "cell_type": "markdown",
   "metadata": {},
   "source": [
    "<b>Problem 1</b> <br>\n",
    "Elinizde stringlerin bulunduğu bir liste bulunduğunu düşünün.\n",
    "<br>\n",
    "liste = [\"345\",\"sadas\",\"324a\",\"14\",\"kemal\"]\n",
    "<br>\n",
    "Bu listenin içindeki stringlerden içinde sadece rakam bulunanları ekrana yazdırın. Bunu yaparken try,except bloklarını kullanmayı unutmayın."
   ]
  },
  {
   "cell_type": "code",
   "execution_count": 2,
   "metadata": {},
   "outputs": [
    {
     "ename": "TypeError",
     "evalue": "'type' object is not subscriptable",
     "output_type": "error",
     "traceback": [
      "\u001b[1;31m---------------------------------------------------------------------------\u001b[0m",
      "\u001b[1;31mTypeError\u001b[0m                                 Traceback (most recent call last)",
      "\u001b[1;32mc:\\Users\\esadd\\Desktop\\IT\\Python\\Udemy\\Udemy_Answers.ipynb Cell 3'\u001b[0m in \u001b[0;36m<module>\u001b[1;34m\u001b[0m\n\u001b[1;32m----> <a href='vscode-notebook-cell:/c%3A/Users/esadd/Desktop/IT/Python/Udemy/Udemy_Answers.ipynb#ch0000000?line=0'>1</a>\u001b[0m liste \u001b[39m=\u001b[39m \u001b[39mint\u001b[39;49m[\u001b[39m\"\u001b[39;49m\u001b[39m345\u001b[39;49m\u001b[39m\"\u001b[39;49m,\u001b[39m\"\u001b[39;49m\u001b[39msadas\u001b[39;49m\u001b[39m\"\u001b[39;49m,\u001b[39m\"\u001b[39;49m\u001b[39m324a\u001b[39;49m\u001b[39m\"\u001b[39;49m,\u001b[39m\"\u001b[39;49m\u001b[39m14\u001b[39;49m\u001b[39m\"\u001b[39;49m,\u001b[39m\"\u001b[39;49m\u001b[39mkemal\u001b[39;49m\u001b[39m\"\u001b[39;49m]\n",
      "\u001b[1;31mTypeError\u001b[0m: 'type' object is not subscriptable"
     ]
    }
   ],
   "source": [
    "liste = int[\"345\",\"sadas\",\"324a\",\"14\",\"kemal\"]\n",
    "\n",
    "for eleman in liste:\n"
   ]
  },
  {
   "cell_type": "code",
   "execution_count": 16,
   "metadata": {},
   "outputs": [
    {
     "name": "stdout",
     "output_type": "stream",
     "text": [
      "345\n",
      "14\n"
     ]
    }
   ],
   "source": [
    "liste = [\"345\",\"sadas\",\"324a\",\"14\",\"kemal\"]\n",
    "\n",
    "for e in liste:\n",
    "    \n",
    "    try:\n",
    "        e = int(e)\n",
    "        print(e)\n",
    "    except:\n",
    "        pass\n",
    "    "
   ]
  },
  {
   "cell_type": "markdown",
   "metadata": {},
   "source": [
    "### <b> Problem 2</b> <br>\n",
    "<br>Bir sayının çift olup olmadığını sorgulayan bir fonksiyon yazın. Bu fonksiyon, eğer sayı çift ise return ile bu değeri dönsün. Ancak sayı tek sayı ise fonksiyon raise ile ValueError hatası fırlatsın. Daha sonra, içinde çift ve tek sayılar bulunduran bir liste tanımlayın ve liste üzerinde gezinerek ekrana sadece çift sayıları bastırın."
   ]
  },
  {
   "cell_type": "code",
   "execution_count": 17,
   "metadata": {},
   "outputs": [],
   "source": [
    "def çift_tek(num):\n",
    "    if num % 2 == 0:\n",
    "        return num\n",
    "    else:\n",
    "        raise ValueError"
   ]
  },
  {
   "cell_type": "code",
   "execution_count": 20,
   "metadata": {},
   "outputs": [
    {
     "ename": "ValueError",
     "evalue": "",
     "output_type": "error",
     "traceback": [
      "\u001b[1;31m---------------------------------------------------------------------------\u001b[0m",
      "\u001b[1;31mValueError\u001b[0m                                Traceback (most recent call last)",
      "\u001b[1;32mc:\\Users\\esadd\\Desktop\\IT\\Python\\Udemy\\Udemy_Answers.ipynb Cell 7'\u001b[0m in \u001b[0;36m<module>\u001b[1;34m\u001b[0m\n\u001b[1;32m----> <a href='vscode-notebook-cell:/c%3A/Users/esadd/Desktop/IT/Python/Udemy/Udemy_Answers.ipynb#ch0000006?line=0'>1</a>\u001b[0m çift_tek(\u001b[39m9\u001b[39;49m)\n",
      "\u001b[1;32mc:\\Users\\esadd\\Desktop\\IT\\Python\\Udemy\\Udemy_Answers.ipynb Cell 6'\u001b[0m in \u001b[0;36mçift_tek\u001b[1;34m(num)\u001b[0m\n\u001b[0;32m      <a href='vscode-notebook-cell:/c%3A/Users/esadd/Desktop/IT/Python/Udemy/Udemy_Answers.ipynb#ch0000005?line=2'>3</a>\u001b[0m     \u001b[39mreturn\u001b[39;00m num\n\u001b[0;32m      <a href='vscode-notebook-cell:/c%3A/Users/esadd/Desktop/IT/Python/Udemy/Udemy_Answers.ipynb#ch0000005?line=3'>4</a>\u001b[0m \u001b[39melse\u001b[39;00m:\n\u001b[1;32m----> <a href='vscode-notebook-cell:/c%3A/Users/esadd/Desktop/IT/Python/Udemy/Udemy_Answers.ipynb#ch0000005?line=4'>5</a>\u001b[0m     \u001b[39mraise\u001b[39;00m \u001b[39mValueError\u001b[39;00m\n",
      "\u001b[1;31mValueError\u001b[0m: "
     ]
    }
   ],
   "source": [
    "çift_tek(9)"
   ]
  },
  {
   "cell_type": "code",
   "execution_count": 21,
   "metadata": {},
   "outputs": [
    {
     "name": "stdout",
     "output_type": "stream",
     "text": [
      "34\n",
      "2\n",
      "100\n",
      "1800\n"
     ]
    }
   ],
   "source": [
    "liste = [34,2,1,3,33,100,61,1800]\n",
    "\n",
    "for cift in liste:\n",
    "    try:\n",
    "        print(çift_tek(cift))\n",
    "    except ValueError:\n",
    "        pass\n",
    "         \n"
   ]
  },
  {
   "cell_type": "code",
   "execution_count": null,
   "metadata": {},
   "outputs": [],
   "source": []
  }
 ],
 "metadata": {
  "interpreter": {
   "hash": "35cf74722583059c87b9403a5ac155edf7f27e486a60c973b9f356bc9771dbae"
  },
  "kernelspec": {
   "display_name": "Python 3.10.2 64-bit",
   "language": "python",
   "name": "python3"
  },
  "language_info": {
   "codemirror_mode": {
    "name": "ipython",
    "version": 3
   },
   "file_extension": ".py",
   "mimetype": "text/x-python",
   "name": "python",
   "nbconvert_exporter": "python",
   "pygments_lexer": "ipython3",
   "version": "3.10.2"
  },
  "orig_nbformat": 4
 },
 "nbformat": 4,
 "nbformat_minor": 2
}
