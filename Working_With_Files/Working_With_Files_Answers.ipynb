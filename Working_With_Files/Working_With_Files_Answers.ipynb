{
 "cells": [
  {
   "cell_type": "markdown",
   "metadata": {},
   "source": [
    "### Bir Sınıfın Harf Notlarını Hesaplama\n",
    "\n",
    "\"dosya.txt\" dosyasını kullanarak öncelikle bir sınıfın harf notlarını hesaplayın ardından ise bu programı geliştirerek kalanları \"kalanlar.txt\" dosyasına ve geçenleri \"geçenler.txt\" dosyasına yazmaya çalışın."
   ]
  },
  {
   "cell_type": "code",
   "execution_count": null,
   "metadata": {},
   "outputs": [],
   "source": [
    "def not_hesapla(satır):\n",
    "\n",
    "    satır = satır[:-1]\n",
    "\n",
    "    print(satır)\n",
    "    \n",
    "    liste = satır.split(\",\")\n",
    "\n",
    "    print(liste)\n",
    "\n",
    "    isim = liste[0]\n",
    "    \n",
    "    not1 = int(liste[1])\n",
    "    \n",
    "    not2 = int(liste[2])\n",
    "    \n",
    "    not3 = int(liste[3])\n",
    "\n",
    "    son_not = not1 * (3/10) + not2 * (3/10) + not3 * (4/10)\n",
    "\n",
    "    if (son_not >= 90):\n",
    "        harf = \"AA\"\n",
    "    elif (son_not >= 85):\n",
    "        harf = \"BA\"\n",
    "    elif (son_not >= 80):\n",
    "        harf = \"BB\"\n",
    "    elif (son_not >= 75):\n",
    "        harf = \"CB\"\n",
    "    elif (son_not >= 70):\n",
    "        harf = \"CC\"\n",
    "    elif (son_not >= 65):\n",
    "        harf = \"DC\"\n",
    "    elif (son_not >= 60):\n",
    "        harf = \"DD\"\n",
    "    elif (son_not >= 55):\n",
    "        harf = \"FD\"\n",
    "    else:\n",
    "        harf = \"FF\"\n",
    "\n",
    "    return isim + \"----------------------->\" + harf + \"\\n\"\n",
    "\n",
    "\n",
    "with open(\"dosya.txt\",\"r\",encoding= \"utf-8\") as file:\n",
    "\n",
    "    eklenecekler_listesi = []\n",
    "\n",
    "    for i in file:\n",
    "\n",
    "        eklenecekler_listesi.append(not_hesapla(i))\n",
    "\n",
    "    print(eklenecekler_listesi)\n",
    "\n",
    "    with open(\"notlar.txt\",\"w\",encoding=\"utf-8\") as file2:\n",
    "\n",
    "        for i in eklenecekler_listesi:\n",
    "            file2.write(i)\n",
    "            "
   ]
  },
  {
   "cell_type": "code",
   "execution_count": null,
   "metadata": {},
   "outputs": [],
   "source": [
    "with open(\"notlar.txt\",\"r\",encoding=\"utf-8\") as file2:\n",
    "\n",
    "        print(file2.read())"
   ]
  },
  {
   "cell_type": "code",
   "execution_count": 15,
   "metadata": {},
   "outputs": [],
   "source": [
    "with open(\"notlar.txt\",\"r\",encoding=\"utf-8\") as file2:\n",
    "    \n",
    "    kalanlar = []\n",
    "    geçenler = []\n",
    "\n",
    "    for i in file2:\n",
    "\n",
    "        if i.endswith(\"FF\\n\"):\n",
    "            kalanlar.append(i)\n",
    "        else:\n",
    "            geçenler.append(i)\n",
    "\n",
    "\n",
    "\n",
    "with open(\"kalanlar.txt\",\"w\",encoding=\"utf-8\") as file3:\n",
    "\n",
    "        for i in kalanlar:\n",
    "            file3.write(i)\n",
    "\n",
    "with open(\"geçenler.txt\",\"w\",encoding=\"utf-8\") as file4:\n",
    "\n",
    "        for i in geçenler:\n",
    "            file4.write(i)\n",
    "\n"
   ]
  },
  {
   "cell_type": "code",
   "execution_count": null,
   "metadata": {},
   "outputs": [],
   "source": [
    "with open(\"geçenler.txt\",\"r\",encoding=\"utf-8\") as file4:\n",
    "    print(file4.read())"
   ]
  },
  {
   "cell_type": "markdown",
   "metadata": {},
   "source": [
    "## Futbolcular.txt\n",
    "\"futbolcular.txt\" şeklinde bir dosya oluşturun ve içine Galatasaray,Fenerbahçe ve Beşiktaşta oynayan futbolcuları rastgele yerleştirin. Bu dosyadan herbir takımın futbolcularını ayırarak \"gs.txt\" , \"fb.txt\", \"bjk.txt\" şeklinde 3 farklı dosyaya yazın."
   ]
  },
  {
   "cell_type": "code",
   "execution_count": 21,
   "metadata": {},
   "outputs": [],
   "source": [
    "stsl = [\"Fernando Muslera,Galatasaray\", \"Marcao,Galatasaray\", \"Victor Nelsson,Galatasaray\", \"Atiba Hutchinson,Beşiktaş\", \"Miralem Pjanic,Beşiktaş\", \"Simon Kjaer,Fenerbahçe\", \"Altay Bayındır,Fenerbahçe\"]"
   ]
  },
  {
   "cell_type": "code",
   "execution_count": 24,
   "metadata": {},
   "outputs": [
    {
     "name": "stdout",
     "output_type": "stream",
     "text": [
      "Fernando Muslera,Galatasaray\n",
      "Marcao,Galatasaray\n",
      "Victor Nelsson,Galatasaray\n",
      "Atiba Hutchinson,Beşiktaş\n",
      "Miralem Pjanic,Beşiktaş\n",
      "Simon Kjaer,Fenerbahçe\n",
      "Altay Bayındır,Fenerbahçe\n",
      "\n"
     ]
    }
   ],
   "source": [
    "with open(\"futbolcular1.txt\",\"w\",encoding = \"utf-8\") as file:\n",
    "    for i in stsl:\n",
    "        file.write(i + \"\\n\")\n",
    "with open(\"futbolcular1.txt\", \"r\", encoding=\"utf-8\") as file :\n",
    "    print(file.read())"
   ]
  },
  {
   "cell_type": "code",
   "execution_count": null,
   "metadata": {},
   "outputs": [],
   "source": [
    "with open(\"futbolcular1.txt\", \"r\", encoding=\"utf-8\") as file :\n",
    "\n",
    "    gs = []\n",
    "    fb = []\n",
    "    bjk = []\n",
    "    \n",
    "    for i in file:\n",
    "        \n",
    "        if i.endswith(\"Galatasaray\\n\"):\n",
    "            gs.append(i)\n",
    "        elif i.endswith(\"Fenerbahçe\\n\"):\n",
    "            fb.append(i)\n",
    "        else:\n",
    "            bjk.append(i)\n",
    "    print(gs)\n",
    "    print(fb)\n",
    "    print(bjk)\n",
    "\n",
    "with open(\"gs.txt\", \"r\", encoding=\"utf-8\") as file2 :\n",
    "\n",
    "    for i in gs:\n",
    "        file2.write(i)\n",
    "with open(\"fb.txt\", \"r\", encoding=\"utf-8\") as file3 :\n",
    "\n",
    "    for i in fb:\n",
    "        file3.write(i)\n",
    "with open(\"bjk.txt\", \"r\", encoding=\"utf-8\") as file4 :\n",
    "\n",
    "    for i in bjk:\n",
    "        file4.write(i)"
   ]
  },
  {
   "cell_type": "markdown",
   "metadata": {},
   "source": [
    "\"futbolcular.txt\" dosyasını kullanarak bir diğer yolla çözelim."
   ]
  },
  {
   "cell_type": "code",
   "execution_count": null,
   "metadata": {},
   "outputs": [],
   "source": [
    "with open(\"futbolcular.txt\", \"r\", encoding=\"utf-8\") as file :\n",
    "\n",
    "    gs = []\n",
    "    fb = []\n",
    "    bjk = []\n",
    "    \n",
    "    for i in file:\n",
    "        i = i[:-1]\n",
    "        satır_eleman = i.split(\",\")\n",
    "        if satır_eleman[1] == \"Galatasaray\" :\n",
    "            gs.append(i + \"\\n\")\n",
    "        elif satır_eleman[1] == \"Fenerbahçe\" :\n",
    "            fb.append(i + \"\\n\")\n",
    "        else:\n",
    "            bjk.append(i + \"\\n\")\n",
    "    print(gs)\n",
    "    print(fb)\n",
    "    print(bjk)\n",
    "\n",
    "with open(\"gs.txt\", \"w\", encoding=\"utf-8\") as file2 :\n",
    "\n",
    "    for i in gs:\n",
    "        file2.write(i)\n",
    "with open(\"fb.txt\", \"w\", encoding=\"utf-8\") as file3 :\n",
    "\n",
    "    for i in fb:\n",
    "        file3.write(i)\n",
    "with open(\"bjk.txt\", \"w\", encoding=\"utf-8\") as file4 :\n",
    "\n",
    "    for i in bjk:\n",
    "        file4.write(i)"
   ]
  },
  {
   "cell_type": "code",
   "execution_count": 1,
   "metadata": {},
   "outputs": [
    {
     "name": "stdout",
     "output_type": "stream",
     "text": [
      "Hello, I am from Spain\n",
      "Hello, I am from \n",
      "Hello, I am from France\n"
     ]
    }
   ],
   "source": [
    "def myFunction(country = \"France\"):\n",
    "    print(\"Hello, I am from\", country)\n",
    "\n",
    "myFunction(\"Spain\")\n",
    "myFunction(\"\")\n",
    "myFunction()"
   ]
  },
  {
   "cell_type": "code",
   "execution_count": null,
   "metadata": {},
   "outputs": [],
   "source": []
  }
 ],
 "metadata": {
  "interpreter": {
   "hash": "35cf74722583059c87b9403a5ac155edf7f27e486a60c973b9f356bc9771dbae"
  },
  "kernelspec": {
   "display_name": "Python 3.10.2 64-bit",
   "language": "python",
   "name": "python3"
  },
  "language_info": {
   "codemirror_mode": {
    "name": "ipython",
    "version": 3
   },
   "file_extension": ".py",
   "mimetype": "text/x-python",
   "name": "python",
   "nbconvert_exporter": "python",
   "pygments_lexer": "ipython3",
   "version": "3.10.2"
  },
  "orig_nbformat": 4
 },
 "nbformat": 4,
 "nbformat_minor": 2
}
